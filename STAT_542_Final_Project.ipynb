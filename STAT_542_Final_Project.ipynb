{
  "nbformat": 4,
  "nbformat_minor": 0,
  "metadata": {
    "colab": {
      "name": "STAT 542 Final Project.ipynb",
      "provenance": [],
      "authorship_tag": "ABX9TyNB2LFdxefrg3LL8z0W/VF6",
      "include_colab_link": true
    },
    "kernelspec": {
      "name": "python3",
      "display_name": "Python 3"
    },
    "language_info": {
      "name": "python"
    }
  },
  "cells": [
    {
      "cell_type": "markdown",
      "metadata": {
        "id": "view-in-github",
        "colab_type": "text"
      },
      "source": [
        "<a href=\"https://colab.research.google.com/github/ghoshdebapratim1/FashionMNIST/blob/main/STAT_542_Final_Project.ipynb\" target=\"_parent\"><img src=\"https://colab.research.google.com/assets/colab-badge.svg\" alt=\"Open In Colab\"/></a>"
      ]
    },
    {
      "cell_type": "markdown",
      "source": [
        "# STAT 542 Final Project"
      ],
      "metadata": {
        "id": "HHSOYqFkshIr"
      }
    }
  ]
}