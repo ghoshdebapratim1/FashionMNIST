{
  "nbformat": 4,
  "nbformat_minor": 0,
  "metadata": {
    "colab": {
      "name": "STAT 542 Final Project.ipynb",
      "provenance": [],
      "authorship_tag": "ABX9TyNh2A9dBc9HgwOBhIIHlzrg",
      "include_colab_link": true
    },
    "kernelspec": {
      "name": "python3",
      "display_name": "Python 3"
    },
    "language_info": {
      "name": "python"
    }
  },
  "cells": [
    {
      "cell_type": "markdown",
      "metadata": {
        "id": "view-in-github",
        "colab_type": "text"
      },
      "source": [
        "<a href=\"https://colab.research.google.com/github/ghoshdebapratim1/FashionMNIST/blob/main/STAT_542_Final_Project.ipynb\" target=\"_parent\"><img src=\"https://colab.research.google.com/assets/colab-badge.svg\" alt=\"Open In Colab\"/></a>"
      ]
    },
    {
      "cell_type": "markdown",
      "source": [
        "# STAT 542 Final Project"
      ],
      "metadata": {
        "id": "HHSOYqFkshIr"
      }
    },
    {
      "cell_type": "markdown",
      "source": [
        "## **Group Members** -  Chirag Ranjan (cranjan2@illinois.edu), Debapratim Ghosh (dg19@illinois.edu), Shantanu Solanki (solanki7@illinois.edu)"
      ],
      "metadata": {
        "id": "BTQT3dJzwBQy"
      }
    },
    {
      "cell_type": "code",
      "source": [
        ""
      ],
      "metadata": {
        "id": "VwjkahyUwXo5"
      },
      "execution_count": null,
      "outputs": []
    }
  ]
}